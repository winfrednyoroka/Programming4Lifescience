{
 "cells": [
  {
   "cell_type": "markdown",
   "id": "corresponding-agent",
   "metadata": {},
   "source": [
    "## Question 6: Script to count number of sequences from each fasta file "
   ]
  },
  {
   "cell_type": "markdown",
   "id": "welsh-germany",
   "metadata": {},
   "source": [
    "Store URL for each file in a list and download them via a loop"
   ]
  },
  {
   "cell_type": "code",
   "execution_count": 21,
   "id": "extraordinary-revolution",
   "metadata": {},
   "outputs": [],
   "source": [
    "import urllib.request\n",
    "\n",
    "#init each url and put in a list\n",
    "url_1 = \"https://drive.google.com/uc?id=1u5BWJv58e8-ZfLSzZ1XcU1obkGmGmknf\"\n",
    "url_2 = \"https://drive.google.com/uc?id=1eYQKEeu0hTOrKTTMO68ymT7X_VxoY18p\"\n",
    "url_3 = \"https://drive.google.com/uc?id=1AOJIFuOpc0SYBDl20m1oL5ktNgTY66wW\"\n",
    "url_list = [url_1, url_2, url_3]\n",
    "\n",
    "#init constant part of absolute path in a string\n",
    "str_destination_filename = \"/home/semilogo/Programming4Lifescience/Semilogo_Excercises_Exam/Raw Data/sequence_\"\n",
    "\n",
    "#loop to download each file\n",
    "for index, links in enumerate(url_list,1):\n",
    "    destination_filename = str_destination_filename+str(index)+\".fasta\"\n",
    "    urllib.request.urlretrieve(links, destination_filename)"
   ]
  },
  {
   "cell_type": "markdown",
   "id": "governmental-apparel",
   "metadata": {},
   "source": [
    "loop to open each file and print number of sequences. Every fasta file has an accession number per sequence begninning with '>\". The number of '>'s per file therefore gives the number of sequences in each file."
   ]
  },
  {
   "cell_type": "code",
   "execution_count": 22,
   "id": "southwest-hampshire",
   "metadata": {},
   "outputs": [
    {
     "name": "stdout",
     "output_type": "stream",
     "text": [
      "sequence_0.fasta has 5 sequences\n",
      "sequence_1.fasta has 5 sequences\n",
      "sequence_2.fasta has 5 sequences\n"
     ]
    }
   ],
   "source": [
    "for i in range(len(url_list)):\n",
    "    seq_file = open(str_destination_filename+str(index)+\".fasta\", 'r')    \n",
    "    print(\"sequence_%d.fasta has %d sequences\"%(i,seq_str.count('>')))"
   ]
  },
  {
   "cell_type": "code",
   "execution_count": 23,
   "id": "brilliant-auction",
   "metadata": {},
   "outputs": [],
   "source": [
    "seq_file.close()"
   ]
  }
 ],
 "metadata": {
  "kernelspec": {
   "display_name": "Python 3",
   "language": "python",
   "name": "python3"
  },
  "language_info": {
   "codemirror_mode": {
    "name": "ipython",
    "version": 3
   },
   "file_extension": ".py",
   "mimetype": "text/x-python",
   "name": "python",
   "nbconvert_exporter": "python",
   "pygments_lexer": "ipython3",
   "version": "3.9.1"
  }
 },
 "nbformat": 4,
 "nbformat_minor": 5
}
