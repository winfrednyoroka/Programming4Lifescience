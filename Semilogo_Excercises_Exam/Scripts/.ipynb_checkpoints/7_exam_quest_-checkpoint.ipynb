{
 "cells": [
  {
   "cell_type": "markdown",
   "id": "stainless-avatar",
   "metadata": {},
   "source": [
    "## Question 7: Script that extracts the sequence headers of all the fasta files, and writes the output in the all_sequence_headers.txt in Results directory"
   ]
  },
  {
   "cell_type": "markdown",
   "id": "national-laugh",
   "metadata": {},
   "source": [
    "Open all the file via a loop and copy any line starting with '>' "
   ]
  },
  {
   "cell_type": "code",
   "execution_count": 47,
   "id": "looking-china",
   "metadata": {},
   "outputs": [],
   "source": [
    "#store the constant part of the absolute path\n",
    "str_destination_filename = \"/home/semilogo/Programming4Lifescience/Semilogo_Excercises_Exam/\"\n",
    "\n"
   ]
  },
  {
   "cell_type": "markdown",
   "id": "lasting-franchise",
   "metadata": {},
   "source": [
    "Open output file"
   ]
  },
  {
   "cell_type": "code",
   "execution_count": 48,
   "id": "outstanding-personal",
   "metadata": {},
   "outputs": [],
   "source": [
    "output_file = open(str_destination_filename + \"Derived Data/Results/all_sequence_headers.txt\", 'w')"
   ]
  },
  {
   "cell_type": "markdown",
   "id": "fiscal-sport",
   "metadata": {},
   "source": [
    "Loop to read from input and write to output file"
   ]
  },
  {
   "cell_type": "code",
   "execution_count": 49,
   "id": "featured-august",
   "metadata": {},
   "outputs": [],
   "source": [
    "for i in range(1,5):\n",
    "    \n",
    "    #specify naming each file \n",
    "    if (i<=3):\n",
    "        seq_file = open(str_destination_filename+\"Raw Data/sequence_\"+str(i)+\".fasta\", 'r')\n",
    "    else:\n",
    "        seq_file = open(str_destination_filename+\"Raw Data/SeqfromfileQ4.fasta\", 'r')\n",
    "        \n",
    "    #read file and write only lines starting with '>'\n",
    "    for i in seq_file.readlines():\n",
    "        if '>' in i:\n",
    "            output_file.write(i)\n",
    "        else :\n",
    "            continue\n",
    "\n",
    "#Close file\n",
    "seq_file.close()   "
   ]
  },
  {
   "cell_type": "code",
   "execution_count": 50,
   "id": "strategic-mailman",
   "metadata": {},
   "outputs": [],
   "source": [
    "output_file.close()"
   ]
  }
 ],
 "metadata": {
  "kernelspec": {
   "display_name": "Python 3",
   "language": "python",
   "name": "python3"
  },
  "language_info": {
   "codemirror_mode": {
    "name": "ipython",
    "version": 3
   },
   "file_extension": ".py",
   "mimetype": "text/x-python",
   "name": "python",
   "nbconvert_exporter": "python",
   "pygments_lexer": "ipython3",
   "version": "3.9.1"
  }
 },
 "nbformat": 4,
 "nbformat_minor": 5
}
