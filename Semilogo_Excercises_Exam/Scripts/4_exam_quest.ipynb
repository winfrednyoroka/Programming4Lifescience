{
 "cells": [
  {
   "cell_type": "markdown",
   "id": "acoustic-letters",
   "metadata": {},
   "source": [
    "## Question 4"
   ]
  },
  {
   "cell_type": "markdown",
   "id": "exclusive-administration",
   "metadata": {},
   "source": [
    "Download sequence file from google drive"
   ]
  },
  {
   "cell_type": "code",
   "execution_count": 257,
   "id": "remarkable-afghanistan",
   "metadata": {},
   "outputs": [
    {
     "data": {
      "text/plain": [
       "('/home/semilogo/Programming4Lifescience/Semilogo_Excercises_Exam/Raw Data/SeqfromfileQ4.fasta',\n",
       " <http.client.HTTPMessage at 0x7f241c62e730>)"
      ]
     },
     "execution_count": 257,
     "metadata": {},
     "output_type": "execute_result"
    }
   ],
   "source": [
    "import urllib.request\n",
    "\n",
    "url = 'https://drive.google.com/uc?id=1H2iBb_tKFjqsgsaTCHGjaewhXdROs3Q8'\n",
    "destination_filename = \"/home/semilogo/Programming4Lifescience/Semilogo_Excercises_Exam/Raw Data/SeqfromfileQ4.fasta\"\n",
    "urllib.request.urlretrieve(url, destination_filename)"
   ]
  },
  {
   "cell_type": "markdown",
   "id": "oriental-questionnaire",
   "metadata": {},
   "source": []
  },
  {
   "cell_type": "code",
   "execution_count": 258,
   "id": "little-lesbian",
   "metadata": {
    "tags": []
   },
   "outputs": [],
   "source": [
    "seq_file = open(\"/home/semilogo/Programming4Lifescience/Semilogo_Excercises_Exam/Raw Data/SeqfromfileQ4.fasta\", 'r')"
   ]
  },
  {
   "cell_type": "markdown",
   "id": "useful-pattern",
   "metadata": {},
   "source": []
  },
  {
   "cell_type": "markdown",
   "id": "married-nothing",
   "metadata": {},
   "source": [
    "**Question a) Show that the DNA string has only four letters**"
   ]
  },
  {
   "cell_type": "code",
   "execution_count": 259,
   "id": "fatal-jungle",
   "metadata": {},
   "outputs": [
    {
     "name": "stdout",
     "output_type": "stream",
     "text": [
      "G 0\n",
      "A 1\n",
      "T 5\n",
      "C 10\n",
      "There are 4 unique alphabets in the DNA string\n"
     ]
    }
   ],
   "source": [
    "#read out the accession line\n",
    "seq_file.readline()\n",
    "\n",
    "#read the file into a string, while removing new line characters and whitespaces\n",
    "seq_string = seq_file.read().rstrip().replace('\\n', '')\n",
    "\n",
    "count = 0\n",
    "\n",
    "#use enumerate to hold the base and its index in the string. The string is read from the second character (index 1).  \n",
    "for index, char in enumerate(seq_string):\n",
    "        \n",
    "    #skip if the character is not unique\n",
    "    if (char in seq_string[:(index)]):\n",
    "        continue\n",
    "    \n",
    "    #add to count if the character is unique. First character with index 0 is automatically counted because string[0:0] is empty\n",
    "    else:\n",
    "        print(char, index)\n",
    "        count += 1\n",
    "\n",
    "\n",
    "print(\"There are %d unique alphabets in the DNA string\" %count )\n"
   ]
  },
  {
   "cell_type": "code",
   "execution_count": null,
   "id": "greek-bottle",
   "metadata": {},
   "outputs": [],
   "source": []
  },
  {
   "cell_type": "markdown",
   "id": "fiscal-pension",
   "metadata": {},
   "source": [
    "**Question b) What is the letter and length of the longest repeating region?**"
   ]
  },
  {
   "cell_type": "markdown",
   "id": "cooperative-school",
   "metadata": {},
   "source": [
    "Use seq_string from the previous question"
   ]
  },
  {
   "cell_type": "markdown",
   "id": "joint-plaza",
   "metadata": {},
   "source": [
    "Create lists to store the repeat and its lenght. And a list to count repeats in the loop"
   ]
  },
  {
   "cell_type": "code",
   "execution_count": 260,
   "id": "external-internship",
   "metadata": {},
   "outputs": [],
   "source": [
    "char_rep_list = []; length_rep = 1; length_rep_list = []; check = False; dict_rep = {}"
   ]
  },
  {
   "cell_type": "markdown",
   "id": "cognitive-feeling",
   "metadata": {},
   "source": []
  },
  {
   "cell_type": "code",
   "execution_count": 261,
   "id": "varied-carnival",
   "metadata": {},
   "outputs": [
    {
     "name": "stdout",
     "output_type": "stream",
     "text": [
      "Maximum repeat: {'T': 6}\n"
     ]
    }
   ],
   "source": [
    "for index, char in enumerate(seq_string[1:],1):\n",
    "    \n",
    "    if char == seq_string[index-1]:\n",
    "        length_rep += 1\n",
    "        check = True\n",
    "        \n",
    "    elif (check):\n",
    "        char_rep_list.append(seq_string[index-1])\n",
    "        length_rep_list.append(length_rep)\n",
    "        length_rep = 1\n",
    "        check = False\n",
    "\n",
    "#retrieve the maximum repeat from list and its index\n",
    "max_rep = max(length_rep_list)\n",
    "\n",
    "#check if there are multiple instances of maximum repeat in list and store in dictionary to remove duplicates\n",
    "for index, char in enumerate(length_rep_list):\n",
    "    if max_rep == char:\n",
    "        dict_rep[char_rep_list[index]] = max_rep\n",
    "\n",
    "#print dictionary\n",
    "print(\"Maximum repeat:\",dict_rep)"
   ]
  },
  {
   "cell_type": "code",
   "execution_count": null,
   "id": "found-weapon",
   "metadata": {},
   "outputs": [],
   "source": []
  },
  {
   "cell_type": "markdown",
   "id": "pressed-beijing",
   "metadata": {},
   "source": [
    "**Question c) How many ’ATG’s are in the DNA string?**"
   ]
  },
  {
   "cell_type": "code",
   "execution_count": 262,
   "id": "filled-bearing",
   "metadata": {},
   "outputs": [
    {
     "data": {
      "text/plain": [
       "106"
      ]
     },
     "execution_count": 262,
     "metadata": {},
     "output_type": "execute_result"
    }
   ],
   "source": [
    "seq_string.count(\"ATG\")"
   ]
  },
  {
   "cell_type": "code",
   "execution_count": 263,
   "id": "capital-reputation",
   "metadata": {},
   "outputs": [],
   "source": [
    "seq_file.close()"
   ]
  },
  {
   "cell_type": "code",
   "execution_count": null,
   "id": "ruled-strength",
   "metadata": {},
   "outputs": [],
   "source": []
  }
 ],
 "metadata": {
  "kernelspec": {
   "display_name": "Python 3",
   "language": "python",
   "name": "python3"
  },
  "language_info": {
   "codemirror_mode": {
    "name": "ipython",
    "version": 3
   },
   "file_extension": ".py",
   "mimetype": "text/x-python",
   "name": "python",
   "nbconvert_exporter": "python",
   "pygments_lexer": "ipython3",
   "version": "3.9.1"
  }
 },
 "nbformat": 4,
 "nbformat_minor": 5
}
