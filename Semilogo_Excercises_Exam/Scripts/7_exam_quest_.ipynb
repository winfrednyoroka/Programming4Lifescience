{
 "cells": [
  {
   "cell_type": "markdown",
   "id": "unusual-riding",
   "metadata": {},
   "source": [
    "## Question 7: Script that extracts the sequence headers of all the fasta files, and writes the output in the all_sequence_headers.txt in Results directory"
   ]
  },
  {
   "cell_type": "markdown",
   "id": "characteristic-paste",
   "metadata": {},
   "source": [
    "Open all the file via a loop and copy any line starting with '>' "
   ]
  },
  {
   "cell_type": "code",
   "execution_count": 51,
   "id": "treated-sitting",
   "metadata": {},
   "outputs": [],
   "source": [
    "#store the constant part of the absolute path\n",
    "str_destination_filename = \"/home/semilogo/Programming4Lifescience/Semilogo_Excercises_Exam/\"\n",
    "\n"
   ]
  },
  {
   "cell_type": "markdown",
   "id": "apparent-playback",
   "metadata": {},
   "source": [
    "Open output file"
   ]
  },
  {
   "cell_type": "code",
   "execution_count": 52,
   "id": "generic-savings",
   "metadata": {},
   "outputs": [],
   "source": [
    "output_file = open(str_destination_filename + \"Derived Data/Results/all_sequence_headers.txt\", 'w')"
   ]
  },
  {
   "cell_type": "markdown",
   "id": "killing-chart",
   "metadata": {},
   "source": [
    "Loop to read from input and write to output file"
   ]
  },
  {
   "cell_type": "code",
   "execution_count": 53,
   "id": "assigned-integer",
   "metadata": {},
   "outputs": [],
   "source": [
    "for i in range(1,5):\n",
    "    \n",
    "    #specify naming each file \n",
    "    if (i<=3):\n",
    "        seq_file = open(str_destination_filename+\"Raw Data/sequence_\"+str(i)+\".fasta\", 'r')\n",
    "    else:\n",
    "        seq_file = open(str_destination_filename+\"Raw Data/SeqfromfileQ4.fasta\", 'r')\n",
    "        \n",
    "    #read file and write only lines starting with '>'\n",
    "    for i in seq_file.readlines():\n",
    "        if '>' in i:\n",
    "            output_file.write(i)\n",
    "        else :\n",
    "            continue\n",
    "\n",
    "#Close file\n",
    "seq_file.close()   "
   ]
  },
  {
   "cell_type": "code",
   "execution_count": 54,
   "id": "romance-number",
   "metadata": {},
   "outputs": [],
   "source": [
    "output_file.close()"
   ]
  },
  {
   "cell_type": "code",
   "execution_count": null,
   "id": "republican-storage",
   "metadata": {},
   "outputs": [],
   "source": []
  }
 ],
 "metadata": {
  "kernelspec": {
   "display_name": "Python 3",
   "language": "python",
   "name": "python3"
  },
  "language_info": {
   "codemirror_mode": {
    "name": "ipython",
    "version": 3
   },
   "file_extension": ".py",
   "mimetype": "text/x-python",
   "name": "python",
   "nbconvert_exporter": "python",
   "pygments_lexer": "ipython3",
   "version": "3.9.1"
  }
 },
 "nbformat": 4,
 "nbformat_minor": 5
}
