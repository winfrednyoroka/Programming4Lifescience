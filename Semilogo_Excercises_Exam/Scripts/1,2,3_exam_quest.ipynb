{
 "cells": [
  {
   "cell_type": "markdown",
   "id": "passing-insert",
   "metadata": {},
   "source": [
    "## 1) A function that reverse complements this sequence DNA=\"ATCGATCGATCAGATTTAAACGGCATATCATAGCACGTACATGACG\""
   ]
  },
  {
   "cell_type": "code",
   "execution_count": 36,
   "id": "meaning-desire",
   "metadata": {
    "tags": []
   },
   "outputs": [
    {
     "name": "stdout",
     "output_type": "stream",
     "text": [
      "The reverse complement of ATCGATCGATCAGATTTAAACGGCATATCATAGCACGTACATGACG is TAGCTAGCTAGTCTAAATTTGCCGTATAGTATCGTGCATGTACTGC\n"
     ]
    }
   ],
   "source": [
    "#Define the sequqnece as a string\n",
    "dna = \"ATCGATCGATCAGATTTAAACGGCATATCATAGCACGTACATGACG\"\n",
    "print(\"The reverse complement of %s is %s\" %(dna, reverse_comp(dna)))"
   ]
  },
  {
   "cell_type": "markdown",
   "id": "needed-courage",
   "metadata": {},
   "source": [
    "Function reverse_comp() takes a string and returns the reverse complement"
   ]
  },
  {
   "cell_type": "code",
   "execution_count": 37,
   "id": "native-singapore",
   "metadata": {},
   "outputs": [],
   "source": [
    "def reverse_comp(f_dna):\n",
    "    #use reversed() to reverse the sequence\n",
    "    rev_dna = f_dna[len(f_dna):0:-1]\n",
    "    #Replace each base with its complement\n",
    "    comp_rev_dna = \"\"\n",
    "    for i in (f_dna):\n",
    "        if (i == 'G'):\n",
    "            comp_rev_dna += 'C'\n",
    "        elif (i == 'C'):\n",
    "            comp_rev_dna += 'G'\n",
    "        elif (i == 'A'):\n",
    "            comp_rev_dna += 'T'\n",
    "        elif (i == 'T'):\n",
    "            comp_rev_dna += 'A'\n",
    "    return comp_rev_dna"
   ]
  },
  {
   "cell_type": "code",
   "execution_count": null,
   "id": "irish-eight",
   "metadata": {},
   "outputs": [],
   "source": []
  },
  {
   "cell_type": "markdown",
   "id": "interpreted-terry",
   "metadata": {},
   "source": [
    "## 2) for Loop that prints values 4-10"
   ]
  },
  {
   "cell_type": "code",
   "execution_count": 38,
   "id": "binding-involvement",
   "metadata": {},
   "outputs": [
    {
     "name": "stdout",
     "output_type": "stream",
     "text": [
      "4\n",
      "5\n",
      "6\n",
      "7\n",
      "8\n",
      "9\n",
      "10\n"
     ]
    }
   ],
   "source": [
    "for i in range(4,11):\n",
    "    print(i)"
   ]
  },
  {
   "cell_type": "code",
   "execution_count": null,
   "id": "prospective-plumbing",
   "metadata": {},
   "outputs": [],
   "source": []
  },
  {
   "cell_type": "markdown",
   "id": "drawn-patent",
   "metadata": {},
   "source": [
    "## 3)  while loop that starts with x = 0 and increments x until x is equal to 5"
   ]
  },
  {
   "cell_type": "code",
   "execution_count": 39,
   "id": "square-lighter",
   "metadata": {},
   "outputs": [
    {
     "name": "stdout",
     "output_type": "stream",
     "text": [
      "0\n",
      "1\n",
      "2\n",
      "3\n",
      "4\n",
      "5\n"
     ]
    }
   ],
   "source": [
    "x = 0\n",
    "while x <= 5:\n",
    "    print(x)\n",
    "    x += 1"
   ]
  },
  {
   "cell_type": "code",
   "execution_count": null,
   "id": "pointed-competition",
   "metadata": {},
   "outputs": [],
   "source": []
  }
 ],
 "metadata": {
  "kernelspec": {
   "display_name": "Python 3",
   "language": "python",
   "name": "python3"
  },
  "language_info": {
   "codemirror_mode": {
    "name": "ipython",
    "version": 3
   },
   "file_extension": ".py",
   "mimetype": "text/x-python",
   "name": "python",
   "nbconvert_exporter": "python",
   "pygments_lexer": "ipython3",
   "version": "3.9.1"
  }
 },
 "nbformat": 4,
 "nbformat_minor": 5
}
